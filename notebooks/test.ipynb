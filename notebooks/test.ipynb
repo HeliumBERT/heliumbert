{
 "cells": [
  {
   "cell_type": "code",
   "execution_count": null,
   "id": "7f3c5eef",
   "metadata": {},
   "outputs": [],
   "source": [
    "import torch\n",
    "from ..heliumbert import AlbertConfig\n",
    "\n",
    "# 1. Create a tiny config (super small to test quickly)\n",
    "config = AlbertConfig(\n",
    "    vocab_size=100,          # toy vocab\n",
    "    hidden_size=32,          # small hidden size\n",
    "    num_hidden_layers=2,     # fewer layers\n",
    "    num_attention_heads=4,\n",
    "    intermediate_size=64,\n",
    "    max_position_embeddings=16,\n",
    ")\n",
    "\n",
    "# 2. Import your modified model class (replace with yours)\n",
    "from ..heliumbert import AlbertForTokenClassification  \n",
    "\n",
    "model = AlbertForTokenClassification(config)\n",
    "\n",
    "# 3. Dummy batch (batch_size=2, seq_len=8)\n",
    "input_ids = torch.randint(0, config.vocab_size, (2, 8))\n",
    "attention_mask = torch.ones_like(input_ids)\n",
    "\n",
    "# 4. Forward pass with labels (token classification expects labels)\n",
    "labels = torch.randint(0, config.num_labels, (2, 8))  \n",
    "outputs = model(input_ids=input_ids, attention_mask=attention_mask, labels=labels)\n",
    "\n",
    "loss, logits = outputs.loss, outputs.logits\n",
    "print(\"Loss:\", loss.item())\n",
    "print(\"Logits shape:\", logits.shape)"
   ]
  }
 ],
 "metadata": {
  "kernelspec": {
   "display_name": ".venv",
   "language": "python",
   "name": "python3"
  },
  "language_info": {
   "name": "python",
   "version": "3.12.7"
  }
 },
 "nbformat": 4,
 "nbformat_minor": 5
}
