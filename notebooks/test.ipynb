{
 "cells": [
  {
   "cell_type": "code",
   "execution_count": 1,
   "id": "ae3e21c8",
   "metadata": {},
   "outputs": [
    {
     "name": "stdout",
     "output_type": "stream",
     "text": [
      "Loss: 0.7032086849212646\n",
      "Logits shape: torch.Size([2, 8, 2])\n"
     ]
    }
   ],
   "source": [
    "import torch\n",
    "from heliumbert import HeliumbertConfig\n",
    "\n",
    "# 1. Create a tiny config (super small to test quickly)\n",
    "config = HeliumbertConfig(\n",
    "    vocab_size=100,          # toy vocab\n",
    "    hidden_size=32,          # small hidden size\n",
    "    num_hidden_layers=2,     # fewer layers\n",
    "    num_attention_heads=4,\n",
    "    intermediate_size=64,\n",
    "    max_position_embeddings=16,\n",
    ")\n",
    "\n",
    "# 2. Import your modified model class (replace with yours)\n",
    "from heliumbert import HeliumbertForTokenClassification  \n",
    "\n",
    "model = HeliumbertForTokenClassification(config)\n",
    "\n",
    "# 3. Dummy batch (batch_size=2, seq_len=8)\n",
    "input_ids = torch.randint(0, config.vocab_size, (2, 8))\n",
    "attention_mask = torch.ones_like(input_ids)\n",
    "\n",
    "# 4. Forward pass with labels (token classification expects labels)\n",
    "labels = torch.randint(0, config.num_labels, (2, 8))  \n",
    "outputs = model(input_ids=input_ids, attention_mask=attention_mask, labels=labels)\n",
    "\n",
    "loss, logits = outputs.loss, outputs.logits\n",
    "print(\"Loss:\", loss.item())\n",
    "print(\"Logits shape:\", logits.shape)"
   ]
  }
 ],
 "metadata": {
  "kernelspec": {
   "display_name": ".venv",
   "language": "python",
   "name": "python3"
  },
  "language_info": {
   "codemirror_mode": {
    "name": "ipython",
    "version": 3
   },
   "file_extension": ".py",
   "mimetype": "text/x-python",
   "name": "python",
   "nbconvert_exporter": "python",
   "pygments_lexer": "ipython3",
   "version": "3.12.7"
  }
 },
 "nbformat": 4,
 "nbformat_minor": 5
}
